{
 "cells": [
  {
   "cell_type": "markdown",
   "metadata": {},
   "source": [
    "# Assignment 2 Variables, Conditions and Functions "
   ]
  },
  {
   "cell_type": "markdown",
   "metadata": {},
   "source": [
    "## Chapter 2"
   ]
  },
  {
   "cell_type": "markdown",
   "metadata": {},
   "source": [
    "### Exercise 2: Write a program that uses input to prompt a user for their name and then welcomes them."
   ]
  },
  {
   "cell_type": "code",
   "execution_count": 4,
   "metadata": {},
   "outputs": [
    {
     "name": "stdout",
     "output_type": "stream",
     "text": [
      "Enter your name \n",
      "saeed\n",
      "Welcome saeed\n",
      "Have a good day\n"
     ]
    }
   ],
   "source": [
    "name = input(\"Enter your name \\n\")\n",
    "print(\"Welcome\",name);\n",
    "print (\"Have a good day\")"
   ]
  },
  {
   "cell_type": "markdown",
   "metadata": {},
   "source": [
    "### Exercise 3: Write a program to prompt the user for hours and rate per hour to compute gross pay."
   ]
  },
  {
   "cell_type": "code",
   "execution_count": 10,
   "metadata": {},
   "outputs": [
    {
     "name": "stdout",
     "output_type": "stream",
     "text": [
      "Enter the hours to compute the pay: 8.4\n",
      "Enter the wage rate per hour: 14.50\n",
      "Gross pay amount is:  121.80000000000001\n"
     ]
    }
   ],
   "source": [
    "hours = float(input(\"Enter the hours to compute the pay: \"));\n",
    "rate = float(input(\"Enter the wage rate per hour: \"));\n",
    "grosspay = hours*rate\n",
    "print (\"Gross pay amount is: \",grosspay);"
   ]
  },
  {
   "cell_type": "markdown",
   "metadata": {},
   "source": [
    "### Exercise 4: Assume that we execute the following assignment statements:"
   ]
  },
  {
   "cell_type": "code",
   "execution_count": 22,
   "metadata": {},
   "outputs": [
    {
     "name": "stdout",
     "output_type": "stream",
     "text": [
      "8\n",
      "<class 'int'>\n",
      "8.5\n",
      "<class 'float'>\n",
      "4.0\n",
      "<class 'float'>\n",
      "11\n",
      "<class 'int'>\n"
     ]
    }
   ],
   "source": [
    "width = 17\n",
    "height = 12.0\n",
    "print (width//2);\n",
    "print (type(width//2));\n",
    "print (width/2.0);\n",
    "print (type(width/2.0));\n",
    "print (height/3);\n",
    "print (type(height/3));\n",
    "print (1 + 2 * 5)\n",
    "print (type(1 + 2 * 5))"
   ]
  },
  {
   "cell_type": "markdown",
   "metadata": {},
   "source": [
    "### Exercise 5: Write a program which prompts the user for a Celsius temperature, convert the temperature to Fahrenheit, and print out the\n",
    "### converted temperature."
   ]
  },
  {
   "cell_type": "code",
   "execution_count": 11,
   "metadata": {},
   "outputs": [
    {
     "name": "stdout",
     "output_type": "stream",
     "text": [
      "Enter the temperature in Celsius to get converted in fahrenheit: 47\n",
      "Converted temperature to fahrenheit is:  116.60000000000001\n"
     ]
    }
   ],
   "source": [
    "celsius = float(input(\"Enter the temperature in Celsius to get converted in fahrenheit: \"));\n",
    "fahrenheit = (celsius*(9/5))+32\n",
    "print (\"Converted temperature to fahrenheit is: \",fahrenheit);"
   ]
  },
  {
   "cell_type": "markdown",
   "metadata": {},
   "source": [
    "## Chapter 3"
   ]
  },
  {
   "cell_type": "markdown",
   "metadata": {},
   "source": [
    "### Exercise 1: Rewrite your pay computation to give the employee 1.5 times the hourly rate for hours worked above 40 hours."
   ]
  },
  {
   "cell_type": "code",
   "execution_count": 1,
   "metadata": {},
   "outputs": [
    {
     "name": "stdout",
     "output_type": "stream",
     "text": [
      "Enter hours worked by an employee: fdssfd\n"
     ]
    },
    {
     "ename": "ValueError",
     "evalue": "could not convert string to float: 'fdssfd'",
     "output_type": "error",
     "traceback": [
      "\u001b[0;31m---------------------------------------------------------------------------\u001b[0m",
      "\u001b[0;31mValueError\u001b[0m                                Traceback (most recent call last)",
      "\u001b[0;32m<ipython-input-1-dcf11d010b04>\u001b[0m in \u001b[0;36m<module>\u001b[0;34m\u001b[0m\n\u001b[0;32m----> 1\u001b[0;31m \u001b[0mhours\u001b[0m \u001b[0;34m=\u001b[0m \u001b[0mfloat\u001b[0m\u001b[0;34m(\u001b[0m\u001b[0minput\u001b[0m\u001b[0;34m(\u001b[0m\u001b[0;34m\"Enter hours worked by an employee: \"\u001b[0m\u001b[0;34m)\u001b[0m\u001b[0;34m)\u001b[0m\u001b[0;34m;\u001b[0m\u001b[0;34m\u001b[0m\u001b[0;34m\u001b[0m\u001b[0m\n\u001b[0m\u001b[1;32m      2\u001b[0m \u001b[0mwage\u001b[0m \u001b[0;34m=\u001b[0m \u001b[0mfloat\u001b[0m\u001b[0;34m(\u001b[0m\u001b[0minput\u001b[0m\u001b[0;34m(\u001b[0m\u001b[0;34m\"Enter wage rate per hour: \"\u001b[0m\u001b[0;34m)\u001b[0m\u001b[0;34m)\u001b[0m\u001b[0;34m;\u001b[0m\u001b[0;34m\u001b[0m\u001b[0;34m\u001b[0m\u001b[0m\n\u001b[1;32m      3\u001b[0m \u001b[0;34m\u001b[0m\u001b[0m\n\u001b[1;32m      4\u001b[0m \u001b[0;32mif\u001b[0m \u001b[0;34m(\u001b[0m\u001b[0mhours\u001b[0m\u001b[0;34m<=\u001b[0m\u001b[0;36m40\u001b[0m\u001b[0;34m)\u001b[0m\u001b[0;34m:\u001b[0m\u001b[0;34m\u001b[0m\u001b[0;34m\u001b[0m\u001b[0m\n\u001b[1;32m      5\u001b[0m     \u001b[0mgrosspay\u001b[0m \u001b[0;34m=\u001b[0m \u001b[0mhours\u001b[0m\u001b[0;34m*\u001b[0m\u001b[0mwage\u001b[0m\u001b[0;34m\u001b[0m\u001b[0;34m\u001b[0m\u001b[0m\n",
      "\u001b[0;31mValueError\u001b[0m: could not convert string to float: 'fdssfd'"
     ]
    }
   ],
   "source": [
    "hours = float(input(\"Enter hours worked by an employee: \"));\n",
    "wage = float(input(\"Enter wage rate per hour: \"));\n",
    "\n",
    "if (hours<=40):\n",
    "    grosspay = hours*wage\n",
    "    print (\"Your grosspay is: \",grosspay);\n",
    "    #Rewritten the above code for less then 40 hours again for reference...\n",
    "    \n",
    "else:\n",
    "    grosspay = 40*wage\n",
    "    extrahours = hours-40\n",
    "    newwage = wage*1.5\n",
    "    totalpay = (extrahours*newwage) + grosspay\n",
    "    print (\"Your grosspay is: \",totalpay)\n",
    "\n",
    "   \n",
    "    "
   ]
  },
  {
   "cell_type": "markdown",
   "metadata": {},
   "source": [
    "### Exercise 2: Rewrite your pay program using try and except so that your program handles non-numeric input gracefully by printing a message and exiting the program. The following shows two executions of the program:"
   ]
  },
  {
   "cell_type": "code",
   "execution_count": 4,
   "metadata": {},
   "outputs": [
    {
     "name": "stdout",
     "output_type": "stream",
     "text": [
      "Enter hours worked by an employee: dfs\n",
      "Only Numeric inputs allowed\n"
     ]
    }
   ],
   "source": [
    "try:\n",
    "    hours = float(input(\"Enter hours worked by an employee: \"));\n",
    "    wage = float(input(\"Enter wage rate per hour: \"));\n",
    "\n",
    "    if (hours<=40):\n",
    "        grosspay = hours*wage\n",
    "        print (\"Your grosspay is: \",grosspay);\n",
    "        #Rewritten the above code for less then 40 hours again for reference...\n",
    "    \n",
    "    else:\n",
    "        grosspay = 40*wage\n",
    "        extrahours = hours-40\n",
    "        newwage = wage*1.5\n",
    "        totalpay = (extrahours*newwage) + grosspay\n",
    "        print (\"Your grosspay is: \",totalpay)\n",
    "    \n",
    "except:\n",
    "    \n",
    "    print(\"Only Numeric inputs allowed\");\n",
    "\n"
   ]
  },
  {
   "cell_type": "markdown",
   "metadata": {},
   "source": [
    "### Exercise 3: Write a program to prompt for a score between 0.0 and 1.0. If the score is out of range, print an error message. If the score is between 0.0 and 1.0, print a grade using the following table:"
   ]
  },
  {
   "cell_type": "code",
   "execution_count": 19,
   "metadata": {},
   "outputs": [
    {
     "name": "stdout",
     "output_type": "stream",
     "text": [
      "Enter your Grade: 55\n",
      "Enter Valid Grades ie. from 0.0-1.0\n"
     ]
    }
   ],
   "source": [
    "grade = float(input(\"Enter your Grade: \"));\n",
    "if (grade>=0.9 and grade<=1.0):\n",
    "    print(\"A Grade\");\n",
    "elif (grade>=0.8 and grade<0.9):\n",
    "    print(\"B Grade\");\n",
    "elif (grade>=0.7 and grade<0.8):\n",
    "    print(\"C Grade\");\n",
    "elif (grade>=0.6 and grade<0.7):\n",
    "    print(\"D Grade\");\n",
    "elif (grade<0.6 and grade>=0.0):\n",
    "    print(\"F Grade \\nSorry you Failed\");\n",
    "else:\n",
    "    print(\"Enter Valid Grades ie. from 0.0-1.0\");"
   ]
  },
  {
   "cell_type": "markdown",
   "metadata": {},
   "source": [
    "## Chapter 4"
   ]
  },
  {
   "cell_type": "markdown",
   "metadata": {},
   "source": [
    "### Exercise 5: What will the following Python program print out? (See textbook page 54)\n",
    "### def fred():\n",
    "###     print(\"Zap\")\n",
    "### def jane():\n",
    "###     print(\"ABC\")"
   ]
  },
  {
   "cell_type": "code",
   "execution_count": null,
   "metadata": {},
   "outputs": [],
   "source": [
    "ABC Zap ABC"
   ]
  },
  {
   "cell_type": "markdown",
   "metadata": {},
   "source": [
    "### Exercise 6: Rewrite your pay computation with time-and-a-half for over-time and create a function called computepay which takes two parameters (hours and rate)."
   ]
  },
  {
   "cell_type": "code",
   "execution_count": 12,
   "metadata": {},
   "outputs": [
    {
     "name": "stdout",
     "output_type": "stream",
     "text": [
      "Enter hours worked by an employee: dsfdsf\n",
      "Only Numeric inputs allowed\n"
     ]
    }
   ],
   "source": [
    "def computepay(hours,rate):\n",
    "    \n",
    "    if (hours<=40):\n",
    "        grosspay = hours*wage            \n",
    "        print (\"Your grosspay is: \",grosspay);\n",
    "        #Rewritten the above code for less then 40 hours again for reference...\n",
    "    else:\n",
    "        grosspay = 40*wage\n",
    "        extrahours = hours-40\n",
    "        newwage = wage*1.5\n",
    "        totalpay = (extrahours*newwage) + grosspay\n",
    "        print (\"Your grosspay is: \",totalpay)\n",
    "    \n",
    "try:\n",
    "    hours = float(input(\"Enter hours worked by an employee: \"));\n",
    "    wage = float(input(\"Enter wage rate per hour: \"));\n",
    "    computepay(hours,wage)\n",
    "\n",
    "except:\n",
    "    print(\"Only Numeric inputs allowed\");\n",
    "    \n",
    "    "
   ]
  },
  {
   "cell_type": "markdown",
   "metadata": {},
   "source": [
    "### Exercise 7: Rewrite the grade program from the previous chapter using a function called computegrade that takes a score as its parameter and returns a grade as a string."
   ]
  },
  {
   "cell_type": "code",
   "execution_count": 14,
   "metadata": {},
   "outputs": [
    {
     "name": "stdout",
     "output_type": "stream",
     "text": [
      "Enter your Grade: 9\n",
      "A Grade\n"
     ]
    }
   ],
   "source": [
    "def computegrade(score):\n",
    "    \n",
    "    if (grade>=0.9 and grade<=1.0):\n",
    "        print(\"A Grade\");\n",
    "    elif (grade>=0.8 and grade<0.9):\n",
    "        print(\"B Grade\");\n",
    "    elif (grade>=0.7 and grade<0.8):\n",
    "        print(\"C Grade\");\n",
    "    elif (grade>=0.6 and grade<0.7):\n",
    "        print(\"D Grade\");\n",
    "    elif (grade<0.6 and grade>=0.0):\n",
    "        print(\"F Grade \\nSorry you Failed\");\n",
    "    else:\n",
    "        print(\"Enter Valid Grades ie. from 0.0-1.0\");\n",
    "        \n",
    "grade = float(input(\"Enter your Grade: \"));\n",
    "computegrade(grade)\n",
    "    "
   ]
  },
  {
   "cell_type": "code",
   "execution_count": null,
   "metadata": {},
   "outputs": [],
   "source": []
  }
 ],
 "metadata": {
  "kernelspec": {
   "display_name": "Python 3",
   "language": "python",
   "name": "python3"
  },
  "language_info": {
   "codemirror_mode": {
    "name": "ipython",
    "version": 3
   },
   "file_extension": ".py",
   "mimetype": "text/x-python",
   "name": "python",
   "nbconvert_exporter": "python",
   "pygments_lexer": "ipython3",
   "version": "3.7.1"
  }
 },
 "nbformat": 4,
 "nbformat_minor": 2
}
