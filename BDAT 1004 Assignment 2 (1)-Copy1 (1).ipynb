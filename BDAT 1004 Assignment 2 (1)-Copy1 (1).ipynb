{
 "cells": [
  {
   "cell_type": "markdown",
   "metadata": {},
   "source": [
    "# Assignment 2 Variables, Conditions and Functions "
   ]
  },
  {
   "cell_type": "markdown",
   "metadata": {},
   "source": [
    "## Chapter 2"
   ]
  },
  {
   "cell_type": "markdown",
   "metadata": {},
   "source": [
    "### Exercise 2: Write a program that uses input to prompt a user for their name and then welcomes them."
   ]
  },
  {
   "cell_type": "code",
   "execution_count": null,
   "metadata": {},
   "outputs": [],
   "source": [
    "name = input(\"Enter your name \\n\")\n",
    "print(\"Welcome\",name);\n",
    "print (\"Have a good day\")"
   ]
  },
  {
   "cell_type": "markdown",
   "metadata": {},
   "source": [
    "### Exercise 3: Write a program to prompt the user for hours and rate per hour to compute gross pay."
   ]
  },
  {
   "cell_type": "code",
   "execution_count": null,
   "metadata": {},
   "outputs": [],
   "source": [
    "hours = float(input(\"Enter the hours to compute the pay: \"));\n",
    "rate = float(input(\"Enter the wage rate per hour: \"));\n",
    "grosspay = hours*rate\n",
    "print (\"Gross pay amount is: \",grosspay);"
   ]
  },
  {
   "cell_type": "markdown",
   "metadata": {},
   "source": [
    "### Exercise 4: Assume that we execute the following assignment statements:"
   ]
  },
  {
   "cell_type": "code",
   "execution_count": null,
   "metadata": {},
   "outputs": [],
   "source": [
    "width = 17\n",
    "height = 12.0\n",
    "print (width//2);\n",
    "print (type(width//2));\n",
    "print (width/2.0);\n",
    "print (type(width/2.0));\n",
    "print (height/3);\n",
    "print (type(height/3));\n",
    "print (1 + 2 * 5)\n",
    "print (type(1 + 2 * 5))"
   ]
  },
  {
   "cell_type": "markdown",
   "metadata": {},
   "source": [
    "### Exercise 5: Write a program which prompts the user for a Celsius temperature, convert the temperature to Fahrenheit, and print out the\n",
    "### converted temperature."
   ]
  },
  {
   "cell_type": "code",
   "execution_count": null,
   "metadata": {},
   "outputs": [],
   "source": [
    "celsius = float(input(\"Enter the temperature in Celsius to get converted in fahrenheit: \"));\n",
    "fahrenheit = (celsius*(9/5))+32\n",
    "print (\"Converted temperature to fahrenheit is: \",fahrenheit);"
   ]
  },
  {
   "cell_type": "markdown",
   "metadata": {},
   "source": [
    "## Chapter 3"
   ]
  },
  {
   "cell_type": "markdown",
   "metadata": {},
   "source": [
    "### Exercise 1: Rewrite your pay computation to give the employee 1.5 times the hourly rate for hours worked above 40 hours."
   ]
  },
  {
   "cell_type": "code",
   "execution_count": null,
   "metadata": {},
   "outputs": [],
   "source": [
    "hours = float(input(\"Enter hours worked by an employee: \"));\n",
    "wage = float(input(\"Enter wage rate per hour: \"));\n",
    "\n",
    "if (hours<=40):\n",
    "    grosspay = hours*wage\n",
    "    print (\"Your grosspay is: \",grosspay);\n",
    "    #Rewritten the above code for less then 40 hours again for reference...\n",
    "    \n",
    "else:\n",
    "    grosspay = 40*wage\n",
    "    extrahours = hours-40\n",
    "    newwage = wage*1.5\n",
    "    totalpay = (extrahours*newwage) + grosspay\n",
    "    print (\"Your grosspay is: \",totalpay)\n",
    "\n",
    "   \n",
    "    "
   ]
  },
  {
   "cell_type": "markdown",
   "metadata": {},
   "source": [
    "### Exercise 2: Rewrite your pay program using try and except so that your program handles non-numeric input gracefully by printing a message and exiting the program. The following shows two executions of the program:"
   ]
  },
  {
   "cell_type": "code",
   "execution_count": null,
   "metadata": {},
   "outputs": [],
   "source": [
    "try:\n",
    "    hours = float(input(\"Enter hours worked by an employee: \"));\n",
    "    wage = float(input(\"Enter wage rate per hour: \"));\n",
    "\n",
    "    if (hours<=40):\n",
    "        grosspay = hours*wage\n",
    "        print (\"Your grosspay is: \",grosspay);\n",
    "        #Rewritten the above code for less then 40 hours again for reference...\n",
    "    \n",
    "    else:\n",
    "        grosspay = 40*wage\n",
    "        extrahours = hours-40\n",
    "        newwage = wage*1.5\n",
    "        totalpay = (extrahours*newwage) + grosspay\n",
    "        print (\"Your grosspay is: \",totalpay)\n",
    "    \n",
    "except:\n",
    "    \n",
    "    print(\"Only Numeric inputs allowed\");\n",
    "\n"
   ]
  },
  {
   "cell_type": "markdown",
   "metadata": {},
   "source": [
    "### Exercise 3: Write a program to prompt for a score between 0.0 and 1.0. If the score is out of range, print an error message. If the score is between 0.0 and 1.0, print a grade using the following table:"
   ]
  },
  {
   "cell_type": "code",
   "execution_count": null,
   "metadata": {},
   "outputs": [],
   "source": [
    "grade = float(input(\"Enter your Grade: \"));\n",
    "if (grade>=0.9 and grade<=1.0):\n",
    "    print(\"A Grade\");\n",
    "elif (grade>=0.8 and grade<0.9):\n",
    "    print(\"B Grade\");\n",
    "elif (grade>=0.7 and grade<0.8):\n",
    "    print(\"C Grade\");\n",
    "elif (grade>=0.6 and grade<0.7):\n",
    "    print(\"D Grade\");\n",
    "elif (grade<0.6 and grade>=0.0):\n",
    "    print(\"F Grade \\nSorry you Failed\");\n",
    "else:\n",
    "    print(\"Enter Valid Grades ie. from 0.0-1.0\");"
   ]
  },
  {
   "cell_type": "markdown",
   "metadata": {},
   "source": [
    "## Chapter 4"
   ]
  },
  {
   "cell_type": "markdown",
   "metadata": {},
   "source": [
    "### Exercise 5: What will the following Python program print out? (See textbook page 54)\n",
    "### def fred():\n",
    "###     print(\"Zap\")\n",
    "### def jane():\n",
    "###     print(\"ABC\")"
   ]
  },
  {
   "cell_type": "code",
   "execution_count": null,
   "metadata": {},
   "outputs": [],
   "source": [
    "ABC Zap ABC"
   ]
  },
  {
   "cell_type": "markdown",
   "metadata": {},
   "source": [
    "### Exercise 6: Rewrite your pay computation with time-and-a-half for over-time and create a function called computepay which takes two parameters (hours and rate)."
   ]
  },
  {
   "cell_type": "code",
   "execution_count": null,
   "metadata": {},
   "outputs": [],
   "source": [
    "def computepay(hours,rate):\n",
    "    \n",
    "    if (hours<=40):\n",
    "        grosspay = hours*wage            \n",
    "        print (\"Your grosspay is: \",grosspay);\n",
    "        #Rewritten the above code for less then 40 hours again for reference...\n",
    "    else:\n",
    "        grosspay = 40*wage\n",
    "        extrahours = hours-40\n",
    "        newwage = wage*1.5\n",
    "        totalpay = (extrahours*newwage) + grosspay\n",
    "        print (\"Your grosspay is: \",totalpay)\n",
    "    \n",
    "try:\n",
    "    hours = float(input(\"Enter hours worked by an employee: \"));\n",
    "    wage = float(input(\"Enter wage rate per hour: \"));\n",
    "    computepay(hours,wage)\n",
    "\n",
    "except:\n",
    "    print(\"Only Numeric inputs allowed\");\n",
    "    \n",
    "    "
   ]
  },
  {
   "cell_type": "markdown",
   "metadata": {},
   "source": [
    "### Exercise 7: Rewrite the grade program from the previous chapter using a function called computegrade that takes a score as its parameter and returns a grade as a string."
   ]
  },
  {
   "cell_type": "code",
   "execution_count": null,
   "metadata": {},
   "outputs": [],
   "source": [
    "def computegrade(score):\n",
    "    \n",
    "    if (grade>=0.9 and grade<=1.0):\n",
    "        print(\"A Grade\");\n",
    "    elif (grade>=0.8 and grade<0.9):\n",
    "        print(\"B Grade\");\n",
    "    elif (grade>=0.7 and grade<0.8):\n",
    "        print(\"C Grade\");\n",
    "    elif (grade>=0.6 and grade<0.7):\n",
    "        print(\"D Grade\");\n",
    "    elif (grade<0.6 and grade>=0.0):\n",
    "        print(\"F Grade \\nSorry you Failed\");\n",
    "    else:\n",
    "        print(\"Enter Valid Grades ie. from 0.0-1.0\");\n",
    "        \n",
    "grade = float(input(\"Enter your Grade: \"));\n",
    "computegrade(grade)\n",
    "    "
   ]
  },
  {
   "cell_type": "code",
   "execution_count": null,
   "metadata": {},
   "outputs": [],
   "source": []
  }
 ],
 "metadata": {
  "kernelspec": {
   "display_name": "Python 3",
   "language": "python",
   "name": "python3"
  },
  "language_info": {
   "codemirror_mode": {
    "name": "ipython",
    "version": 3
   },
   "file_extension": ".py",
   "mimetype": "text/x-python",
   "name": "python",
   "nbconvert_exporter": "python",
   "pygments_lexer": "ipython3",
   "version": "3.7.1"
  }
 },
 "nbformat": 4,
 "nbformat_minor": 2
}
